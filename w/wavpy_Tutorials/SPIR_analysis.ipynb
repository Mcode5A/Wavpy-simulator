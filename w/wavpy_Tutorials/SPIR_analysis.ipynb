{
 "cells": [
  {
   "cell_type": "markdown",
   "metadata": {},
   "source": [
    "# Analysis of SPIR case using *wavpy*"
   ]
  },
  {
   "cell_type": "markdown",
   "metadata": {},
   "source": [
    "We will see an example of how to estimate iGNSS-R altimetry delay from a 10-sec interval of the SPIR dataset. The purpose of this excercise is to illustrate several capabilities of *wavpy*, including beamformer computation, alignment of waveform series (usually refered among us as retracking) and use of *Waveform_complex_cluster* and *Waveform_power* classes."
   ]
  },
  {
   "cell_type": "markdown",
   "metadata": {},
   "source": [
    "First, list of imports:"
   ]
  },
  {
   "cell_type": "code",
   "execution_count": 1,
   "metadata": {
    "collapsed": true
   },
   "outputs": [],
   "source": [
    "import matplotlib.pyplot as plt\n",
    "import numpy as np\n",
    "import sys\n",
    "import os\n",
    "HOME = os.getenv(\"HOME\")\n",
    "wavpyDIR = HOME + \"/gnssr_analysis/trunk/src/waveform_pylib/wavpy/\"\n",
    "sys.path.insert(1,wavpyDIR)\n",
    "import wavpy"
   ]
  },
  {
   "cell_type": "markdown",
   "metadata": {},
   "source": [
    "Now we define the variables required:"
   ]
  },
  {
   "cell_type": "code",
   "execution_count": 2,
   "metadata": {
    "collapsed": true
   },
   "outputs": [],
   "source": [
    "#Phase offsets previously estimated for both arrays (required for the beamformer)\n",
    "phases_offset = np.zeros(16)\n",
    "phases_offset[0] = 0.00\n",
    "phases_offset[1] = 146.92\n",
    "phases_offset[2] = -146.96\n",
    "phases_offset[3] = -147.47\n",
    "phases_offset[4] = -176.24\n",
    "phases_offset[5] = -155.03\n",
    "phases_offset[6] = -152.11\n",
    "phases_offset[7] = 171.89\n",
    "phases_offset[8] = 0.00\n",
    "phases_offset[9] = 84.24\n",
    "phases_offset[10] = 76.38\n",
    "phases_offset[11] = 118.13\n",
    "phases_offset[12] = 117.05\n",
    "phases_offset[13] = 100.82\n",
    "phases_offset[14] = -23.70\n",
    "phases_offset[15] = 76.34\n",
    "\n",
    "#Position of antenna elements at the antenna reference frame\n",
    "pos_elems = np.zeros([8,2])\n",
    "pos_elems[0][0] = -0.1651\n",
    "pos_elems[0][1] = -0.03808\n",
    "pos_elems[1][0] = -0.1651\n",
    "pos_elems[1][1] = 0.07622\n",
    "pos_elems[2][0] = -0.0508\n",
    "pos_elems[2][1] = -0.03808\n",
    "pos_elems[3][0] = -0.0508\n",
    "pos_elems[3][1] = 0.07622\n",
    "pos_elems[4][0] = 0.0635\n",
    "pos_elems[4][1] = -0.03808\n",
    "pos_elems[5][0] = 0.0635\n",
    "pos_elems[5][1] = 0.07622\n",
    "pos_elems[6][0] = 0.1778\n",
    "pos_elems[6][1] = -0.03808\n",
    "pos_elems[7][0] = 0.1778\n",
    "pos_elems[7][1] = 0.07622\n",
    "\n",
    "#RF_FrontEnd object accounting for the up-looking array\n",
    "receiver_UP = wavpy.RF_FrontEnd()\n",
    "receiver_UP.set_antenna_orientation_BF_EH([1.0, 0.0, 0.0], [0.0, -1.0, 0.0]) #Up-looking antenna\n",
    "receiver_UP.set_antenna_elements_pos_AF(pos_elems, 0)\n",
    "\n",
    "#RF_FrontEnd object accounting for the down-looking array\n",
    "receiver_DW = wavpy.RF_FrontEnd()\n",
    "receiver_DW.set_antenna_elements_pos_AF(pos_elems, 0)\n",
    "\n",
    "#Specular_geometry object to compute geometry aspects\n",
    "mygeom = wavpy.Specular_geometry()\n",
    "mygeom.load_sp3File(\"data/igs18734.sp3\", 'G')\n",
    "\n",
    "#Position of up-looking array in the aircraft body frame\n",
    "pos_array_UP_BF = np.zeros(3)\n",
    "pos_array_UP_BF[0] = -1.21\n",
    "pos_array_UP_BF[1] = 0.122\n",
    "pos_array_UP_BF[2] = -0.01\n",
    "\n",
    "#Position of down-looking array in the aircraft body frame\n",
    "pos_array_DW_BF = np.zeros(3)\n",
    "pos_array_DW_BF[0] = -1.23\n",
    "pos_array_DW_BF[1] = 0.093\n",
    "pos_array_DW_BF[2] = 2.093\n",
    "\n",
    "#Sampling rate in Hz (samples/sec)\n",
    "sampling_rate = 80000000.0\n",
    "\n",
    "#Size of resulting waveform in samples\n",
    "size_wav = 512\n",
    "\n",
    "#Coherent time of integration in msecs\n",
    "coh_msecs = 1\n",
    "\n",
    "#Starting time reference\n",
    "gps_week = 1873\n",
    "init_sow = 384780\n",
    "\n",
    "#GPS PRN number selected\n",
    "prn = 1\n",
    "\n",
    "#ascii file containing inertial information\n",
    "inert_filename = \"data/week_sow_roll_pitch_yaw_TEST.txt\"\n",
    "\n",
    "#ascii file containing the precise position of the receiver\n",
    "recpos_filename = \"data/week_sow_posR_ECEF_TEST.txt\"\n",
    "\n",
    "#Waveform_power object to average power waveforms after aligning them with delay information\n",
    "wav_pow = wavpy.Waveform_power()\n",
    "wav_pow.set_sampling_rate(sampling_rate)\n",
    "wav_pow.set_min_resolution_fft_interp(0.05)\n",
    "wav_pow.set_fit_length(5.0)\n",
    "\n",
    "#Waveform_power object to average power waveforms without delay alignment for comparison purposes\n",
    "wav_pow_notAlign = wavpy.Waveform_power()\n",
    "wav_pow_notAlign.set_sampling_rate(sampling_rate)\n",
    "wav_pow_notAlign.set_min_resolution_fft_interp(0.05)\n",
    "wav_pow_notAlign.set_fit_length(5.0)\n",
    "\n",
    "#Waveform_complex_cluster to collect raw SPIR data and compute complex waveforms\n",
    "mywavCluster = wavpy.Waveform_complex_cluster()"
   ]
  },
  {
   "cell_type": "markdown",
   "metadata": {},
   "source": [
    "At this point we perform the integration loops (uncoherent and coherent). A delay model is computed at every time sample with the ancillary information available in order to align the power waveforms prior to their averaging. From such information we also compute the required phases to apply a beamformer for obtaining the complex waveforms from the raw samples contained at the SPIR data files."
   ]
  },
  {
   "cell_type": "markdown",
   "metadata": {},
   "source": [
    "Note: You will need to have direct network connection to dumbo in order to be able to read the SPIR files."
   ]
  },
  {
   "cell_type": "code",
   "execution_count": 3,
   "metadata": {
    "collapsed": false
   },
   "outputs": [
    {
     "name": "stdout",
     "output_type": "stream",
     "text": [
      "In sow 384780\n",
      "In sow 384781\n",
      "In sow 384782\n",
      "In sow 384783\n",
      "In sow 384784\n",
      "In sow 384785\n",
      "In sow 384786\n",
      "In sow 384787\n",
      "In sow 384788\n",
      "In sow 384789\n",
      "Done!\n"
     ]
    }
   ],
   "source": [
    "for sow in np.arange(init_sow, init_sow + 10):\n",
    "    \n",
    "    print \"In sow %d\" % (sow)\n",
    "    \n",
    "    #We compute the delay evolution at msec-level during the whole second (998 samples for SPIR)\n",
    "    retracking_msec = np.zeros(999)\n",
    "    for msec in range(999):\n",
    "        #Geometry delay\n",
    "        mygeom.read_ECEFpos_GNSS_Transmitter_sp3Loaded(gps_week, float(sow) + float(msec)/1000.0, prn, 'G')\n",
    "        mygeom.read_ECEFpos_Receiver(recpos_filename, gps_week, float(sow) + float(msec)/1000.0)\n",
    "        mygeom.compute_specular_point(0)\n",
    "        #Inertial delay\n",
    "        mygeom.read_Inertials_Receiver(inert_filename, gps_week, float(sow) + float(msec)/1000.0)\n",
    "        pos_array_UP_Local = mygeom.rotate_vector_BF_to_local(pos_array_UP_BF)\n",
    "        pos_array_DW_Local = mygeom.rotate_vector_BF_to_local(pos_array_DW_BF)\n",
    "        inertial_delay = (pos_array_DW_Local[1] - pos_array_UP_Local[1])*(np.cos(mygeom.elevation*np.pi/180.0)) + (pos_array_DW_Local[2] - pos_array_UP_Local[2])*(-np.sin(mygeom.elevation*np.pi/180.0)) #Projection over reflected signal path\n",
    "        #Atmospheric delay\n",
    "        posR_LLH = mygeom.get_LongLatHeight_Receiver()\n",
    "        atmospheric_delay = (4.6/np.sin(mygeom.elevation*np.pi/180.0))*(1.0 - np.exp(-posR_LLH[2]/8.621))\n",
    "                \n",
    "        if(msec == 0):\n",
    "            #The delay model at zero msec is taken as a reference \n",
    "            ref_range = mygeom.geometric_delay*1000.0 - inertial_delay + atmospheric_delay\n",
    "            #We compute at this point the phases that are needed to later apply the beamformer\n",
    "            posS_ECEF = mygeom.get_ECEFpos_Specular()\n",
    "            posR_ECEF = mygeom.get_ECEFpos_Receiver()\n",
    "            posT_ECEF = mygeom.get_ECEFpos_Transmitter()\n",
    "            inert_RPY = mygeom.get_inertials()\n",
    "            receiver_UP.compute_phase_delays_pos_ECEF_RT(inert_RPY, posR_ECEF, posT_ECEF)\n",
    "            receiver_DW.compute_phase_delays_pos_ECEF_RT(inert_RPY, posR_ECEF, posS_ECEF)\n",
    "            phase_delaysUP = receiver_UP.get_phase_delays(8)\n",
    "            phase_delaysDW = receiver_DW.get_phase_delays(8)\n",
    "            phasesUP = (phase_delaysUP*180.0/np.pi) - phases_offset[0:8]\n",
    "            phasesDW = (phase_delaysDW*180.0/np.pi) - phases_offset[8:16]\n",
    "            if(sow == init_sow):\n",
    "                ref_elev_initsow = mygeom.elevation\n",
    "        \n",
    "        #We store the delay correction for sub-second waveform alignment\n",
    "        retracking_msec[msec] = ref_range - (mygeom.geometric_delay*1000.0 - inertial_delay + atmospheric_delay)\n",
    "\n",
    "    #SPIR file for given sow    \n",
    "    spir_file_name = \"/home/dumbo/dades/SPIR-Campaign-2015-12-03/SPIR-data-ThirdFlight_20151203/L1ant_20151203_104938/00Hour/03Min/\" + str(sow - init_sow + 1).zfill(2) + \"Sec\"    \n",
    "    #Here we get 1-sec of SPIR raw data and we load 998 complex waveforms after applying a beamformer with the phases previously computed\n",
    "    #This function is by far the step that requires the highest computational cost\n",
    "    start_window_delay = mywavCluster.load_ITF_waveforms_SPIR(spir_file_name, ref_range, phasesUP, phasesDW, 0)\n",
    "    \n",
    "    #Integration of complex waveforms (coherently until coh_msecs, then uncoherently until 1-sec) applying delay alignment\n",
    "    wav_int = mywavCluster.integrate_waveforms_retracking(coh_msecs, sampling_rate, retracking_msec, size_wav)\n",
    "    #Integration of complex waveforms (coherently until coh_msecs, then uncoherently until 1-sec) without delay alignment\n",
    "    wav_int_notAlign = mywavCluster.integrate_waveforms(coh_msecs, size_wav)\n",
    "    \n",
    "    if(sow == init_sow):\n",
    "        #First sow is the time reference\n",
    "        ref_swd_initsow = start_window_delay\n",
    "        ref_range_initsow = ref_range\n",
    "        #We load the power waveform from the first sow\n",
    "        wav_pow.set_init_range(start_window_delay)\n",
    "        wav_pow.set_waveform(wav_int)\n",
    "        #We also load the same power waveform from the first sow here\n",
    "        wav_pow_notAlign.set_init_range(start_window_delay)\n",
    "        wav_pow_notAlign.set_waveform(wav_int_notAlign)\n",
    "    else:\n",
    "        #The next power waveforms are added after applying a delay displacement (retracking)\n",
    "        wav_pow.add_waveform_retracking(wav_int, ref_range_initsow - ref_range + start_window_delay - ref_swd_initsow, 1.0/float(sow-init_sow), False)\n",
    "        #Here we add the next waveforms but only applying the displacement given by possible changes in the assigment of the initial start window delay\n",
    "        wav_pow_notAlign.add_waveform_retracking(wav_int_notAlign, start_window_delay - ref_swd_initsow, 1.0/float(sow-init_sow), False)\n",
    "\n",
    "    \n",
    "mygeom.free_sp3File()\n",
    "print \"Done!\""
   ]
  },
  {
   "cell_type": "markdown",
   "metadata": {},
   "source": [
    "Now we compare the integrated power waveforms obtained by plotting them:"
   ]
  },
  {
   "cell_type": "code",
   "execution_count": 4,
   "metadata": {
    "collapsed": false
   },
   "outputs": [
    {
     "data": {
      "image/png": "[encoded data removed]",
      "text/plain": [
       "<Figure size 432x288 with 1 Axes>"
      ]
     },
     "metadata": {
      "needs_background": "light"
     },
     "output_type": "display_data"
    }
   ],
   "source": [
    "plt.plot(wav_pow.get_range_waveform(size_wav), wav_pow.get_waveform(size_wav), 'b-', label=\"Aligned\")\n",
    "plt.plot(wav_pow_notAlign.get_range_waveform(size_wav), wav_pow_notAlign.get_waveform(size_wav), 'r-', label=\"Not aligned\")\n",
    "plt.xlim([5650, 6000])\n",
    "plt.xlabel(\"Range [m]\")\n",
    "plt.ylabel(\"Power [a.u.]\")\n",
    "plt.title(\"10-sec integrated waveform\")\n",
    "plt.legend()\n",
    "plt.grid()\n",
    "plt.show()"
   ]
  },
  {
   "cell_type": "markdown",
   "metadata": {
    "collapsed": true
   },
   "source": [
    "We can see how the waveform averaged without delay alignment spreads further in the range axis."
   ]
  },
  {
   "cell_type": "markdown",
   "metadata": {},
   "source": [
    "Finally, we will compute the altimetry delay for both cases."
   ]
  },
  {
   "cell_type": "code",
   "execution_count": 5,
   "metadata": {
    "collapsed": false
   },
   "outputs": [
    {
     "data": {
      "image/png": "[encoded data removed]",
      "text/plain": [
       "<Figure size 432x288 with 1 Axes>"
      ]
     },
     "metadata": {
      "needs_background": "light"
     },
     "output_type": "display_data"
    },
    {
     "name": "stdout",
     "output_type": "stream",
     "text": [
      "Altimetry delay difference: 5.74 m\n"
     ]
    }
   ],
   "source": [
    "wav_pow.compute_delays()\n",
    "plt.plot(wav_pow.get_range_waveform(size_wav), wav_pow.get_waveform(size_wav), 'b.-', label=\"Aligned\")\n",
    "plt.plot(wav_pow.positionDer, wav_pow.power_posDer, 'bo')\n",
    "wav_pow_notAlign.compute_delays()\n",
    "plt.plot(wav_pow_notAlign.get_range_waveform(size_wav), wav_pow_notAlign.get_waveform(size_wav), 'r.-', label=\"Not aligned\")\n",
    "plt.plot(wav_pow_notAlign.positionDer, wav_pow_notAlign.power_posDer, 'ro')\n",
    "plt.xlim([5720, 5780])\n",
    "plt.xlabel(\"Range [m]\")\n",
    "plt.ylabel(\"Power [a.u.]\")\n",
    "plt.title(\"10-sec integrated waveform\")\n",
    "plt.legend()\n",
    "plt.grid()\n",
    "plt.show()\n",
    "\n",
    "print \"Altimetry delay difference: %3.2f m\" % (wav_pow_notAlign.positionDer - wav_pow.positionDer)"
   ]
  },
  {
   "cell_type": "markdown",
   "metadata": {},
   "source": [
    "We can make a first estimation of the ellipsoidal sea surface height (SSH) obtained with both waveforms:"
   ]
  },
  {
   "cell_type": "code",
   "execution_count": 8,
   "metadata": {
    "collapsed": false
   },
   "outputs": [
    {
     "name": "stdout",
     "output_type": "stream",
     "text": [
      "SSH (wavs. aligned) = 17.18 m\n",
      "SSH (wavs. not aligned) = 14.17 m\n"
     ]
    }
   ],
   "source": [
    "print \"SSH (wavs. aligned) = %3.2f m\" % ((ref_range_initsow - wav_pow.positionDer)/(2.0*np.sin(ref_elev_initsow*np.pi/180.0)))\n",
    "print \"SSH (wavs. not aligned) = %3.2f m\" % ((ref_range_initsow - wav_pow_notAlign.positionDer)/(2.0*np.sin(ref_elev_initsow*np.pi/180.0)))"
   ]
  },
  {
   "cell_type": "markdown",
   "metadata": {},
   "source": [
    "According to in-situ measurements, the SSH at this location and time was 17.41 m, a value which is clearly closer to the result obtained after applying waveform alignment."
   ]
  }
 ],
 "metadata": {
  "kernelspec": {
   "display_name": "Python 2",
   "language": "python",
   "name": "python2"
  },
  "language_info": {
   "codemirror_mode": {
    "name": "ipython",
    "version": 2
   },
   "file_extension": ".py",
   "mimetype": "text/x-python",
   "name": "python",
   "nbconvert_exporter": "python",
   "pygments_lexer": "ipython2",
   "version": "2.7.13"
  }
 },
 "nbformat": 4,
 "nbformat_minor": 2
}
