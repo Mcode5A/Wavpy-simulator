{
 "cells": [
  {
   "cell_type": "markdown",
   "metadata": {},
   "source": [
    "# WAVPY TUTORIAL"
   ]
  },
  {
   "cell_type": "markdown",
   "metadata": {},
   "source": [
    "This tutorial provides several examples for exploiting the capabilitites of *wavpy*. Different classes are employed to show some of their available functionalities to end up with a simulation of waveforms and DDM, which require the combination of the previous ones. "
   ]
  },
  {
   "cell_type": "code",
   "execution_count": null,
   "metadata": {
    "collapsed": true
   },
   "outputs": [],
   "source": [
    "# List of imports: essentially wavpy and matplotlib to show results\n",
    "\n",
    "import matplotlib.pyplot as plt\n",
    "from mpl_toolkits.mplot3d import Axes3D\n",
    "import numpy as np\n",
    "import sys\n",
    "import os\n",
    "HOME = os.getenv(\"HOME\")\n",
    "wavpyDIR = HOME + \"/gnssr_analysis/trunk/src/waveform_pylib/wavpy/\"\n",
    "sys.path.insert(1,wavpyDIR)\n",
    "import wavpy\n",
    "import time"
   ]
  },
  {
   "cell_type": "markdown",
   "metadata": {},
   "source": [
    "# 1: Composite GNSS signal"
   ]
  },
  {
   "cell_type": "code",
   "execution_count": null,
   "metadata": {
    "collapsed": false
   },
   "outputs": [],
   "source": [
    "mySignal = wavpy.GNSS_composite()\n",
    "\n",
    "# We construct different GNSS signals by modifying the weights of the codes available\n",
    "\n",
    "[range_signal, gps_all_codes] = mySignal.get_lambda_func(mySignal.lambda_size, mySignal.lambda_size)\n",
    "plt.plot(range_signal, gps_all_codes, 'b-', label='GPS all codes')\n",
    "\n",
    "mySignal.weight_E1A = 1.0\n",
    "mySignal.weight_E1B = 1.0\n",
    "mySignal.weight_E1C = 1.0\n",
    "mySignal.weight_CA = 0.0\n",
    "mySignal.weight_PY = 0.0\n",
    "mySignal.weight_M = 0.0\n",
    "mySignal.weight_IM = 0.0\n",
    "mySignal.compute_lambda_func()\n",
    "[range_signal, galileo_all_codes] = mySignal.get_lambda_func(mySignal.lambda_size, mySignal.lambda_size)\n",
    "plt.plot(range_signal, galileo_all_codes, 'g-', label='Galileo all codes')\n",
    "\n",
    "mySignal.weight_CA = 1.0\n",
    "mySignal.weight_E1A = 0.0\n",
    "mySignal.weight_E1B = 0.0\n",
    "mySignal.weight_E1C = 0.0\n",
    "mySignal.compute_lambda_func()\n",
    "[range_signal, gps_L1CA] = mySignal.get_lambda_func(mySignal.lambda_size, mySignal.lambda_size)\n",
    "plt.plot(range_signal, gps_L1CA, 'r-', label='GPS L1 C/A')\n",
    "\n",
    "plt.xlabel(\"Range [m]\")\n",
    "plt.ylabel(\"Normalized power\")\n",
    "plt.grid()\n",
    "plt.legend()\n",
    "plt.show()"
   ]
  },
  {
   "cell_type": "markdown",
   "metadata": {},
   "source": [
    "# 2: Reflecting surface"
   ]
  },
  {
   "cell_type": "code",
   "execution_count": null,
   "metadata": {
    "collapsed": false
   },
   "outputs": [],
   "source": [
    "mySurface = wavpy.Reflecting_surface()\n",
    "\n",
    "# We first check permittivity aspects\n",
    "\n",
    "# We built a function to plot the Fresnel reflection coefficients for circular polarizations\n",
    "def plot_all_Rfresnel(wavpy_surf, labelname, colorline):\n",
    "    incidence_angles = np.arange(0.0, 91.0, 1.0)\n",
    "    epsilon_air = [1.0, 0.0]\n",
    "    rco = np.zeros(len(incidence_angles))\n",
    "    rcross = np.zeros(len(incidence_angles))\n",
    "    for i in range(len(incidence_angles)):\n",
    "        [[rco_r, rco_i], [rcross_r, rcross_i]] = wavpy_surf.compute_Rfresnel_circular(incidence_angles[i], epsilon_air)\n",
    "        rco[i] = np.sqrt(rco_r*rco_r + rco_i*rco_i)\n",
    "        rcross[i] = np.sqrt(rcross_r*rcross_r + rcross_i*rcross_i)\n",
    "    plt.plot(incidence_angles, rco, '--', color=colorline)\n",
    "    plt.plot(incidence_angles, rcross, '-', color=colorline, label=labelname)\n",
    "    return\n",
    "\n",
    "# Sea water as the default case\n",
    "plot_all_Rfresnel(mySurface, 'Sea water', 'r')\n",
    "\n",
    "# Case of new/young sea ice (direct setting of relative permittivity values)\n",
    "mySurface.epsilon_real = 10.0/np.sqrt(2.0)\n",
    "mySurface.epsilon_imag = 10.0/np.sqrt(2.0)\n",
    "plot_all_Rfresnel(mySurface, 'Sea ice (New/Young)', 'm')\n",
    "\n",
    "# Case of first/multi-year sea ice (computed from brine volume)\n",
    "mySurface.epsilon_sea_ice(30.0)\n",
    "plot_all_Rfresnel(mySurface, 'Sea ice (First/Multi-Year)', 'y')\n",
    "\n",
    "# Case of wet snow (computed from snow density and water volume)\n",
    "mySurface.epsilon_wet_snow(0.5, 8.0)\n",
    "plot_all_Rfresnel(mySurface, 'Wet Snow', 'g')\n",
    "\n",
    "# Case of dry snow (computed from snow density)\n",
    "mySurface.epsilon_dry_snow(0.5)\n",
    "plot_all_Rfresnel(mySurface, 'Dry Snow', 'b')\n",
    "\n",
    "# Show the results obtained\n",
    "plt.xlim([0.0, 90.0])\n",
    "plt.xlabel(\"Incidence angle [deg]\")\n",
    "plt.ylim([0.0, 1.0])\n",
    "plt.ylabel(\"Reflection coef.\")\n",
    "plt.grid()\n",
    "plt.legend()\n",
    "plt.show()"
   ]
  },
  {
   "cell_type": "code",
   "execution_count": null,
   "metadata": {
    "collapsed": false
   },
   "outputs": [],
   "source": [
    "# We focus now on roughness \n",
    "\n",
    "# We can directly set the MSS values of the surface or, in the case of sea water, we derive them using different methods:\n",
    "\n",
    "# A) From wind speed using [Katzberg et al, 06]\n",
    "\n",
    "mySurface.wind_U10_speed = 20.0\n",
    "mySurface.wind_U10_azimuth = 0.0\n",
    "mySurface.compute_mss_from_wind()\n",
    "\n",
    "print(\"MSS values: [%f, %f]\" % (mySurface.mss_x, mySurface.mss_y))"
   ]
  },
  {
   "cell_type": "code",
   "execution_count": null,
   "metadata": {
    "collapsed": false
   },
   "outputs": [],
   "source": [
    "# B) Constructing a sea spectrum based on [Elfouhaily et al, 97]\n",
    "\n",
    "InvWavAge = 0.84\n",
    "WindWavesAngle = 0.0\n",
    "n = 4096\n",
    "dk = 2.0*np.pi/410.0\n",
    "# This generates a spectrum evaluated at n values in kx and n values in ky,\n",
    "# from -n/2 ... to ... n/2\n",
    "# Therefore, the minimum and maximum kx and ky are: -n/2*dk to +n/2*dk\n",
    "mySurface.compute_sea_spectrum(n, dk, WindWavesAngle, InvWavAge)\n",
    "\n",
    "# Then, we can compute the corresponding MSS values from the stored spectrum (which could also be inputed by the user)\n",
    "mySurface.compute_mss_from_spectrum()\n",
    "\n",
    "print(\"MSS values: [%f, %f]\" % (mySurface.mss_x, mySurface.mss_y))"
   ]
  },
  {
   "cell_type": "markdown",
   "metadata": {},
   "source": [
    "# 3: Specular geometry"
   ]
  },
  {
   "cell_type": "code",
   "execution_count": null,
   "metadata": {
    "collapsed": false
   },
   "outputs": [],
   "source": [
    "myGeom = wavpy.Specular_geometry()\n",
    "\n",
    "def dump_geo_params(wavpy_geo):\n",
    "    posT = wavpy_geo.get_ECEFpos_Transmitter()\n",
    "    velT = wavpy_geo.get_ECEFvel_Transmitter()\n",
    "    coorT = wavpy_geo.get_LongLatHeight_Transmitter()\n",
    "    print(\"==================> Transmitter\")\n",
    "    print(\"- Pos-ECEF [km]: %f %f %f\" % (posT[0], posT[1], posT[2]))\n",
    "    print(\"- Vel-ECEF [km/s]: %f %f %f\" % (velT[0], velT[1], velT[2]))\n",
    "    print(\"- Coordinates [deg, deg, km]: %f %f %f\" % (coorT[0], coorT[1], coorT[2]))\n",
    "    print(\"- Azimuth, Elevation [deg]: %f %f\" % (wavpy_geo.azimuthT, wavpy_geo.elevation))\n",
    "    posR = wavpy_geo.get_ECEFpos_Receiver()\n",
    "    velR = wavpy_geo.get_ECEFvel_Receiver()\n",
    "    coorR = wavpy_geo.get_LongLatHeight_Receiver()\n",
    "    print(\"==================> Receiver\")\n",
    "    print(\"- Pos-ECEF [km]: %f %f %f\" % (posR[0], posR[1], posR[2]))\n",
    "    print(\"- Vel-ECEF [km/s]: %f %f %f\" % (velR[0], velR[1], velR[2]))\n",
    "    print(\"- Coordinates [deg, deg, km]: %f %f %f\" % (coorR[0], coorR[1], coorR[2]))\n",
    "    print(\"- Azimuth, Elevation [deg]: %f %f\" % (wavpy_geo.azimuthR, wavpy_geo.elevation))\n",
    "    posS = wavpy_geo.get_ECEFpos_Specular()\n",
    "    undu = wavpy_geo.get_Undulation()\n",
    "    print(\"==================> Specular point\")\n",
    "    print(\"- Pos-ECEF [km]: %f %f %f\" % (posS[0], posS[1], posS[2]))\n",
    "    print(\"- Coordinates [deg, deg, km]: %f %f %f\" % (wavpy_geo.longitudeS, wavpy_geo.latitudeS, undu))\n",
    "    return\n",
    "\n",
    "# There are different options to set a bistatic-radar scenario:\n",
    "\n",
    "# A) Setting ECEF positions of receiver and transmiter\n",
    "\n",
    "myGeom.set_ECEFpos_Receiver([3061.222, -5984.822, 1544.057])\n",
    "myGeom.set_ECEFpos_Transmitter([4080.0950610, -15319.6341923, 21324.6634863])\n",
    "myGeom.compute_specular_point(1)\n",
    "dump_geo_params(myGeom)"
   ]
  },
  {
   "cell_type": "code",
   "execution_count": null,
   "metadata": {
    "collapsed": false
   },
   "outputs": [],
   "source": [
    "# B) Setting positions from Lon-Lat-Height coordinates or interpolating them from ascii files\n",
    "\n",
    "myGeom.set_LongLatHeight_Receiver([-62.9103656, 13.0138428, 520.2783949])\n",
    "myGeom.read_ECEFpos_GNSS_Transmitter(\"data/igs19672.sp3\", 1967, 230576, 6, 'G')\n",
    "myGeom.compute_specular_point(1)\n",
    "dump_geo_params(myGeom)"
   ]
  },
  {
   "cell_type": "code",
   "execution_count": null,
   "metadata": {
    "collapsed": false
   },
   "outputs": [],
   "source": [
    "# C) Simply by chosing a specular point location and the relative orientation of receiver and transmitter wrt it\n",
    "\n",
    "lonSpecular = 14.782621\n",
    "latSpecular = 41.129761\n",
    "heightS = 0.0\n",
    "elevation = 60.0\n",
    "heightR = 520.0\n",
    "heightT = 20000.0\n",
    "azimT = 90.0\n",
    "myGeom.set_geometry_from_ElevHeightsSpec(elevation, heightR, heightT, lonSpecular, latSpecular, azimT, heightS, 0)\n",
    "myGeom.set_tangEarthVel_Receiver(8.0, 0.0)\n",
    "myGeom.set_tangEarthVel_Transmitter(3.0, 0.0)\n",
    "dump_geo_params(myGeom)"
   ]
  },
  {
   "cell_type": "markdown",
   "metadata": {},
   "source": [
    "# 4: Receiver Front-End"
   ]
  },
  {
   "cell_type": "code",
   "execution_count": null,
   "metadata": {
    "collapsed": false
   },
   "outputs": [],
   "source": [
    "myReceiver = wavpy.RF_FrontEnd()\n",
    "\n",
    "# We define the antenna pattern from a set of points in both E and H-planes \n",
    "anglesE = [-90.0, -53.0, -40.0, -25.0, 0.0, 20.0, 35.0, 45.0, 90.0]\n",
    "patternE = [-40.0, -20.0, -11.0, -4.0, 0.0, -3.0, -9.0, -15.0, -40.0]\n",
    "anglesH = [-60.0, -52.0, -45.0, -37.0, -30.0, -28.0, -25.0, -20.0, -15.0, 0.0, 10.0, 15.0, 20.0, 25.0, 30.0, 35.0, 45.0, 60.0]\n",
    "patternH = [-40.0, -20.0, -15.0, -13.0, -16.0, -20.0, -40.0, -14.0, -6.0, 0.0, -3.0, -8.0, -15.0, -40.0, -18.0, -15.7, -20.0, -40.0]\n",
    "\n",
    "ant_gain = 15.0\n",
    "ant_temp = 200.0\n",
    "noise_F = 3.0\n",
    "baseband_BW = 5000000.0\n",
    "isotropic_ant = 0\n",
    "myReceiver.set_receiver_params(ant_gain, ant_temp, noise_F, baseband_BW, isotropic_ant)\n",
    "myReceiver.set_antenna_patterns_interp(anglesE, patternE, anglesH, patternH, -40.0)\n",
    "myReceiver.set_antenna_orientation_BF_EH([0.0, 1.0, 0.0], [-1.0, 0.0, 0.0])\n",
    "\n",
    "# Plot antenna diagram\n",
    "[pattern_E_out, pattern_H_out] = myReceiver.get_antenna_patterns()\n",
    "angles_out = np.concatenate((np.arange(0,181,1), np.arange(-179,0,1)), axis=0)\n",
    "plt.plot(angles_out, pattern_E_out - pattern_E_out[0], label=r'E-plane ($\\phi =$  0|180 deg)')\n",
    "plt.plot(angles_out, pattern_H_out - pattern_H_out[0], label=r'H-plane ($\\phi =$ 90|270 deg)')\n",
    "plt.plot(anglesE, patternE, '.')\n",
    "plt.plot(anglesH, patternH, '.')\n",
    "plt.xlabel(r'$\\theta$ [deg]')\n",
    "plt.ylabel('Gain [dB]')\n",
    "plt.grid()\n",
    "plt.legend(loc=1)\n",
    "plt.xlim([-179, 180.0])\n",
    "plt.ylim([-40.0, 5.0])\n",
    "plt.show()"
   ]
  },
  {
   "cell_type": "code",
   "execution_count": null,
   "metadata": {
    "collapsed": false
   },
   "outputs": [],
   "source": [
    "# We define a function to plot 3D representations of the radiation pattern\n",
    "\n",
    "def plot_ant_pattern(wavpy_rec, apply_AF):\n",
    "    ant_gain = wavpy_rec.get_antenna_whole_pattern()\n",
    "    if(apply_AF):\n",
    "        ant_gain = ant_gain + np.nan_to_num(wavpy_rec.get_array_factor())\n",
    "        ant_gain = np.clip(ant_gain, 0.0, None)       \n",
    "    phi, theta = np.meshgrid(np.arange(0,360), np.arange(0,181))\n",
    "    fig1 = plt.figure(1)\n",
    "    ax1 = plt.axes(projection='3d')\n",
    "    ax1.plot_surface(theta, phi, ant_gain, cmap=plt.cm.jet, rstride=1, cstride=1, linewidth=0)\n",
    "    ax1.set_xlabel(r'$\\theta$ [deg]')\n",
    "    ax1.set_ylabel(r'$\\phi$ [deg]')\n",
    "    ax1.set_zlabel('Gain [dB]')\n",
    "    ax1.set_title('Antenna pattern')\n",
    "    min_ant_gain = np.min(np.min(ant_gain[:,:]))\n",
    "    x = (ant_gain - min_ant_gain)*np.sin(theta*np.pi/180.0)*np.cos(phi*np.pi/180.0)\n",
    "    y = (ant_gain - min_ant_gain)*np.sin(theta*np.pi/180.0)*np.sin(phi*np.pi/180.0)\n",
    "    z = (ant_gain - min_ant_gain)*np.cos(theta*np.pi/180.0)\n",
    "    fig2 = plt.figure(2)\n",
    "    ax2 = plt.axes(projection='3d')\n",
    "    ax2.plot_surface(x, y, z, cmap=plt.cm.jet, rstride=1, cstride=1, linewidth=0)\n",
    "    ax2.set_xlabel('X')\n",
    "    ax2.set_ylabel('Y')\n",
    "    ax2.set_zlabel('Z')\n",
    "    ax2.set_title('Radiation pattern')\n",
    "    fig3 = plt.figure(3)\n",
    "    ax3 = plt.axes(projection='3d')\n",
    "    ax3.view_init(elev=0.0, azim=0.0)\n",
    "    ax3.plot_surface(x, y, z, cmap=plt.cm.jet, rstride=1, cstride=1, linewidth=0)\n",
    "    ax3.set_xlabel('X')\n",
    "    ax3.set_zlabel('Z')\n",
    "    ax3.set_title('Radiation pattern')\n",
    "    fig4 = plt.figure(4)\n",
    "    ax4 = plt.axes(projection='3d')\n",
    "    ax4.view_init(elev=0.0, azim=270.0)\n",
    "    ax4.plot_surface(x, y, z, cmap=plt.cm.jet, rstride=1, cstride=1, linewidth=0)\n",
    "    ax4.set_ylabel('Y')\n",
    "    ax4.set_zlabel('Z')\n",
    "    ax4.set_title('Radiation pattern')\n",
    "    plt.show()\n",
    "\n",
    "# Plot the previously loaded antenna pattern \n",
    "print(\"Plotting antenna patterns...\")\n",
    "plot_ant_pattern(myReceiver, False)"
   ]
  },
  {
   "cell_type": "code",
   "execution_count": null,
   "metadata": {
    "collapsed": false
   },
   "outputs": [],
   "source": [
    "# We set a new anttena pattern from an ascii file and plot the results\n",
    "\n",
    "ant_gain_array = np.loadtxt(\"data/cygnss_antpattern_deg.txt\", unpack=True)\n",
    "ant_pattern_CYGNSS = np.zeros([181,360]) - 10.0\n",
    "for i in range(91):\n",
    "    for j in range(360):\n",
    "        ant_pattern_CYGNSS[i, j] = ant_gain_array[i*360 + j]\n",
    "        \n",
    "myReceiver.set_receiver_params(0.0, ant_temp, noise_F, baseband_BW, isotropic_ant)\n",
    "myReceiver.set_antenna_whole_pattern(ant_pattern_CYGNSS)\n",
    "\n",
    "print(\"Plotting antenna patterns...\")\n",
    "plot_ant_pattern(myReceiver, False)"
   ]
  },
  {
   "cell_type": "code",
   "execution_count": null,
   "metadata": {
    "collapsed": true
   },
   "outputs": [],
   "source": [
    "# Set a uniform planar array as antenna\n",
    "\n",
    "num_elem_1D = 16\n",
    "theta_max = 45.0\n",
    "phi_max = 270.0\n",
    "\n",
    "# We first load the antenna pattern from a single element (basic hemispherial antenna)\n",
    "angles = [-120.0, -90.0, -50.0, 0.0, 50.0, 90.0, 120.0]\n",
    "pattern = [-20.0, -5.0, -0.5, 0.0, -0.5, -5.0, -20.0]\n",
    "myReceiver.set_receiver_params(3.0, ant_temp, noise_F, baseband_BW, isotropic_ant)\n",
    "myReceiver.set_antenna_pattern_interp(angles, pattern, -20.0)\n",
    "\n",
    "# We define the location of the elements in the array (a square equi-spaced one with half lambda separations)\n",
    "pos_elems = np.zeros([num_elem_1D*num_elem_1D,2])\n",
    "for i in range(num_elem_1D):\n",
    "    for j in range(num_elem_1D):\n",
    "        pos_elems[i*num_elem_1D + j][0] = 0.5*i - (0.5*(num_elem_1D - 1))/2.0\n",
    "        pos_elems[i*num_elem_1D + j][1] = 0.5*j - (0.5*(num_elem_1D - 1))/2.0         \n",
    "myReceiver.set_antenna_elements_pos_AF(pos_elems, 1)\n",
    "\n",
    "# Configure the pointing direction of the array factor\n",
    "myReceiver.compute_phase_delays_UPA(theta_max, phi_max)\n",
    "myReceiver.compute_array_factor()\n",
    "\n",
    "print(\"Plotting antenna patterns...\")\n",
    "plot_ant_pattern(myReceiver, True)"
   ]
  },
  {
   "cell_type": "markdown",
   "metadata": {},
   "source": [
    "# 5: WAVEFORM AND DDM MODEL"
   ]
  },
  {
   "cell_type": "markdown",
   "metadata": {},
   "source": [
    "Class *ZaVoModel_GNSSR* provides the functions to simulate waveforms and DDM's. It contains objects from the previous classes in order to charactize the different aspects of a GNSS-R scenario. Therefore, the user may edit and check the contents of each element before running a simulation. The next code lines provide different exmaples of use."
   ]
  },
  {
   "cell_type": "code",
   "execution_count": null,
   "metadata": {
    "collapsed": true
   },
   "outputs": [],
   "source": [
    "myDDMmodel = wavpy.ZaVoModel_GNSSR()\n",
    "\n",
    "myDDMmodel.sampling_rate = 4091750.0\n",
    "myDDMmodel.wav_length = 64\n",
    "myDDMmodel.delta_doppler = 500.0\n",
    "myDDMmodel.ddm_half_dopplers = 10\n",
    "# Previous GNSS signal: GPS L1 C/A\n",
    "myDDMmodel.gnss_signal = mySignal\n",
    "# Sea water surface with a roughness level computed from wind speed\n",
    "myDDMmodel.surface.wind_U10_speed = 20.0\n",
    "myDDMmodel.surface.compute_mss_from_wind()\n",
    "# A real CYGNSS case\n",
    "myDDMmodel.geometry.set_ECEFpos_Receiver([3061.222, -5984.822, 1544.057])\n",
    "myDDMmodel.geometry.set_ECEFvel_Receiver([4.831, 3.526, 4.01])\n",
    "myDDMmodel.geometry.set_inertials(0.0, 0.0, 55.66)\n",
    "myDDMmodel.geometry.read_ECEFpos_GNSS_Transmitter(\"data/igs19672.sp3\", 1967, 230576, 6, 'G')\n",
    "myDDMmodel.geometry.compute_specular_point(1)\n",
    "# We set the previous receiver characteristics using the loaded antenna pattern\n",
    "myDDMmodel.receiver_Down.set_receiver_params(0.0, ant_temp, noise_F, baseband_BW, isotropic_ant)\n",
    "myDDMmodel.receiver_Down.set_antenna_whole_pattern(ant_pattern_CYGNSS)\n",
    "\n",
    "# Compute waveform model and DDM based on [Zavorotny & Voronovich, 00]\n",
    "\n",
    "start_time = time.time()\n",
    "#myDDMmodel.compute_waveform(0, 1, 0, 0, 0)\n",
    "myDDMmodel.interferometric_flag = False\n",
    "myDDMmodel.curvature_approx_flag = True\n",
    "myDDMmodel.covariance_wav_flag = False\n",
    "myDDMmodel.covariance_ddm_flag = False\n",
    "myDDMmodel.recompute_Lambda_flag = True\n",
    "myDDMmodel.compute_waveform()\n",
    "print(\"=> Computation Time for waveform and DDM: %s seconds\" % (time.time() - start_time))"
   ]
  },
  {
   "cell_type": "code",
   "execution_count": null,
   "metadata": {
    "collapsed": true
   },
   "outputs": [],
   "source": [
    "# Plot PNR (peak to noise ratio) waveform\n",
    "\n",
    "range_wav = myDDMmodel.waveform_POW.get_range_waveform(myDDMmodel.wav_length)\n",
    "range_spec = range_wav - myDDMmodel.geometry.geometric_delay*1000.0\n",
    "wav_pow = myDDMmodel.waveform_POW.get_waveform(myDDMmodel.wav_length)\n",
    "noise_level = wav_pow[0]\n",
    "\n",
    "plt.figure(1)\n",
    "plt.plot(range_spec/1000.0, 10.0*np.log10(wav_pow/noise_level), '.-')\n",
    "plt.grid()\n",
    "plt.title(\"Example of CYGNSS waveform model (elevation = %3.2f deg)\" % (myDDMmodel.geometry.elevation))\n",
    "plt.xlabel(\"Range from specular [km]\")\n",
    "plt.ylabel(\"PNR [dB]\")\n",
    "\n",
    "# Plot DDM\n",
    "\n",
    "DDM = np.zeros([(myDDMmodel.ddm_half_dopplers*2 + 1), myDDMmodel.wav_length])\n",
    "for freq_ind in range(0, (myDDMmodel.ddm_half_dopplers*2 + 1)):\n",
    "    DDM[freq_ind, :] = myDDMmodel.get_DDM_doppler_slice((myDDMmodel.ddm_half_dopplers - freq_ind), myDDMmodel.wav_length)\n",
    "\n",
    "plt.figure(2)\n",
    "plt.imshow(DDM[:,:], extent=[range_spec[0]/1000.0, range_spec[-1]/1000.0, -myDDMmodel.delta_doppler*float(myDDMmodel.ddm_half_dopplers), myDDMmodel.delta_doppler*float(myDDMmodel.ddm_half_dopplers)], vmin=noise_level, vmax=max(DDM[myDDMmodel.ddm_half_dopplers,:]), cmap='jet', aspect='auto')\n",
    "plt.title(\"Example of CYGNSS DDM model (elevation = %3.2f deg)\" % (myDDMmodel.geometry.elevation))\n",
    "plt.xlabel(\"Range from specular [km]\")\n",
    "plt.ylabel(\"Doppler [Hz]\")\n",
    "plt.colorbar()\n",
    "\n",
    "plt.show()"
   ]
  },
  {
   "cell_type": "code",
   "execution_count": null,
   "metadata": {
    "collapsed": true
   },
   "outputs": [],
   "source": [
    "# Compute waveform covariance model based on [Li et al, 17]\n",
    "\n",
    "start_time = time.time()\n",
    "#myDDMmodel.compute_waveform(0, 1, 1, 1, 0)\n",
    "myDDMmodel.covariance_wav_flag = True\n",
    "myDDMmodel.compute_waveform()\n",
    "print(\"=> Computation Time for waveform: %s seconds\" % (time.time() - start_time))"
   ]
  },
  {
   "cell_type": "code",
   "execution_count": null,
   "metadata": {
    "collapsed": true
   },
   "outputs": [],
   "source": [
    "# Plot PNR (peak to noise ratio) waveform\n",
    "\n",
    "range_wav = myDDMmodel.waveform_POW.get_range_waveform(myDDMmodel.wav_length)\n",
    "range_spec = range_wav - myDDMmodel.geometry.geometric_delay*1000.0\n",
    "wav_mean = myDDMmodel.waveform_POW.get_waveform(myDDMmodel.wav_length)\n",
    "\n",
    "plt.figure(1)\n",
    "plt.plot(range_spec/1000.0, 10.0*np.log10(wav_pow/noise_level), 'b.-', label=\"Standard method\")\n",
    "plt.plot(range_spec/1000.0, 10.0*np.log10(wav_mean/wav_mean[0]), 'r.-', label=\"Covariance method\")\n",
    "plt.grid()\n",
    "plt.xlabel(\"Range from specular [km]\")\n",
    "plt.ylabel(\"PNR [dB]\")\n",
    "plt.legend(loc=1)\n",
    "\n",
    "# Plot waveform covariance model\n",
    "\n",
    "cov_wav = np.zeros([myDDMmodel.wav_length, myDDMmodel.wav_length])\n",
    "for cov_ind in range(0, myDDMmodel.wav_length):\n",
    "    cov_wav[myDDMmodel.wav_length - 1 - cov_ind, :] = myDDMmodel.get_cov_slice(cov_ind, myDDMmodel.wav_length)\n",
    "\n",
    "plt.figure(2)\n",
    "plt.imshow(cov_wav[:,:], extent=[range_spec[0]/1000.0, range_spec[-1]/1000.0, range_spec[0]/1000.0, range_spec[-1]/1000.0], vmin=min(cov_wav.min(axis=0)), vmax=max(cov_wav.max(axis=0)), cmap='jet', aspect='auto')\n",
    "plt.title(\"Waveform covariance model\")\n",
    "plt.xlabel(\"Range from specular [km]\")\n",
    "plt.ylabel(\"Range from specular [km]\")\n",
    "plt.colorbar()\n",
    "\n",
    "plt.show()"
   ]
  },
  {
   "cell_type": "code",
   "execution_count": null,
   "metadata": {
    "collapsed": true
   },
   "outputs": [],
   "source": [
    "# Computing noisy waveforms using stored covariance model and mean waveform\n",
    "\n",
    "plt.figure(1)\n",
    "num_wavs = 1000\n",
    "noisy_wavs = np.zeros([num_wavs, myDDMmodel.wav_length])\n",
    "start_time = time.time()\n",
    "for i in range(num_wavs):\n",
    "    seed_random_generator = i\n",
    "    noisy_wavs[i,:] = myDDMmodel.get_noisy_waveform(myDDMmodel.wav_length, i)\n",
    "    if(i < 10):# Plot the 10 first noisy waveforms\n",
    "        plt.plot(range_spec/1000.0, 10.0*np.log10(noisy_wavs[i,:]/wav_mean[0]), '--')\n",
    "print(\"=> Computation Time for 1000 noisy waveform: %s seconds\" % (time.time() - start_time))\n",
    "\n",
    "plt.plot(range_spec/1000.0, 10.0*np.log10(wav_mean/wav_mean[0]), 'k.-', label=\"Mean waveform\")\n",
    "plt.grid()\n",
    "plt.title(\"Example of 10 simulated noisy waveforms\")\n",
    "plt.xlabel(\"Range from specular [km]\")\n",
    "plt.ylabel(\"PNR [dB]\")\n",
    "plt.legend(loc=1)\n",
    "\n",
    "# Plot covariance from 1000 simulated waveforms\n",
    "\n",
    "plt.figure(2)\n",
    "cov_sim = np.cov(noisy_wavs, rowvar=False)\n",
    "plt.imshow(np.flipud(cov_sim[:,:]), extent=[range_spec[0]/1000.0, range_spec[-1]/1000.0, range_spec[0]/1000.0, range_spec[-1]/1000.0], vmin=min(cov_sim.min(axis=0)), vmax=max(cov_sim.max(axis=0)), cmap='jet', aspect='auto')\n",
    "plt.title(\"Covariance from 1000 simulated noisy wavs.\")\n",
    "plt.xlabel(\"Range from specular [km]\")\n",
    "plt.ylabel(\"Range from specular [km]\")\n",
    "plt.colorbar()\n",
    "\n",
    "plt.show()"
   ]
  },
  {
   "cell_type": "code",
   "execution_count": null,
   "metadata": {
    "collapsed": true
   },
   "outputs": [],
   "source": [
    "# Compute DDM covariance model based on [Li et al, 17]\n",
    "\n",
    "start_time = time.time()\n",
    "#myDDMmodel.compute_waveform(0, 1, 1, 1, 1)\n",
    "myDDMmodel.covariance_ddm_flag = True\n",
    "myDDMmodel.compute_waveform()\n",
    "print(\"=> Computation Time for waveform and DDM: %s seconds\" % (time.time() - start_time))\n",
    "\n",
    "# Plot DDM\n",
    "DDM_mean = np.zeros([(myDDMmodel.ddm_half_dopplers*2 + 1), myDDMmodel.wav_length])\n",
    "for freq_ind in range(0, (myDDMmodel.ddm_half_dopplers*2 + 1)):\n",
    "      DDM_mean[freq_ind, :] = myDDMmodel.get_DDM_doppler_slice((myDDMmodel.ddm_half_dopplers - freq_ind), myDDMmodel.wav_length)\n",
    "\n",
    "plt.imshow(DDM_mean[:,:], extent=[range_spec[0]/1000.0, range_spec[-1]/1000.0, -myDDMmodel.delta_doppler*float(myDDMmodel.ddm_half_dopplers), myDDMmodel.delta_doppler*float(myDDMmodel.ddm_half_dopplers)], vmin=min(DDM_mean[myDDMmodel.ddm_half_dopplers,:]), vmax=max(DDM_mean[myDDMmodel.ddm_half_dopplers,:]), cmap='jet', aspect='auto')\n",
    "plt.title(\"Mean DDM from covariance model\")\n",
    "plt.xlabel(\"Range from specular [km]\")\n",
    "plt.ylabel(\"Doppler [Hz]\")\n",
    "plt.colorbar()\n",
    "\n",
    "plt.show()"
   ]
  },
  {
   "cell_type": "code",
   "execution_count": null,
   "metadata": {
    "collapsed": true
   },
   "outputs": [],
   "source": [
    "# Compute and plot 1 noisy DDM from covariance model\n",
    "\n",
    "seed_random_generator = 1\n",
    "start_time = time.time()\n",
    "DDM_noise = myDDMmodel.get_noisy_DDM(myDDMmodel.wav_length*(myDDMmodel.ddm_half_dopplers*2 + 1), seed_random_generator)\n",
    "print(\"=> Computation Time for 1 noisy DDM: %s seconds\" % (time.time() - start_time))\n",
    "\n",
    "# Plot noisy DDM\n",
    "DDM_noise_plot = np.flipud(DDM_noise.reshape((myDDMmodel.ddm_half_dopplers*2 + 1), myDDMmodel.wav_length))\n",
    "\n",
    "plt.imshow(DDM_noise_plot[:,:], extent=[range_spec[0]/1000.0, range_spec[-1]/1000.0, -myDDMmodel.delta_doppler*float(myDDMmodel.ddm_half_dopplers), myDDMmodel.delta_doppler*float(myDDMmodel.ddm_half_dopplers)], vmin=min(DDM_mean[myDDMmodel.ddm_half_dopplers,:]), vmax=max(DDM_mean[myDDMmodel.ddm_half_dopplers,:]), cmap='jet', aspect='auto')\n",
    "plt.title(\"Example of noisy DDM from covariance model\")\n",
    "plt.xlabel(\"Range from specular [km]\")\n",
    "plt.ylabel(\"Doppler [Hz]\")\n",
    "plt.colorbar()\n",
    "\n",
    "plt.show()"
   ]
  }
 ],
 "metadata": {
  "kernelspec": {
   "display_name": "Python 2",
   "language": "python",
   "name": "python2"
  },
  "language_info": {
   "codemirror_mode": {
    "name": "ipython",
    "version": 2
   },
   "file_extension": ".py",
   "mimetype": "text/x-python",
   "name": "python",
   "nbconvert_exporter": "python",
   "pygments_lexer": "ipython2",
   "version": "2.7.13"
  }
 },
 "nbformat": 4,
 "nbformat_minor": 2
}
